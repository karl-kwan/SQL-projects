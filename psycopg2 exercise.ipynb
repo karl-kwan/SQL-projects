{
 "cells": [
  {
   "cell_type": "markdown",
   "metadata": {},
   "source": [
    "This is a <mark>psycopg2</mark> learning script from YouTube: https://www.youtube.com/watch?v=M2NzvnfS-hI&t=229s\n",
    "\n",
    "\n",
    "1. import libraries: psycopg2, (psycopg2.extras)\n",
    "2. create:\n",
    "    1. a connection instance to connect Python and PostgreSQL and requires\n",
    "        a. host name\n",
    "        b. database name\n",
    "        c. user name\n",
    "        d. password\n",
    "        e. port number\n",
    "    2. a cursor instance by connection.cursor() \n",
    "3. cur.execute(your script)\n",
    "4. print(cur.fetchall()) if you need to show the result\n",
    "5. conn.commit()\n",
    "6. close your connection and cursor\n",
    "    \n",
    "\n"
   ]
  },
  {
   "cell_type": "code",
   "execution_count": 36,
   "metadata": {},
   "outputs": [],
   "source": [
    "import psycopg2\n",
    "import psycopg2.extras\n",
    "\n",
    "host = 'localhost'\n",
    "dbname = 'psycopg2'\n",
    "user = 'postgres'\n",
    "password = '0000'\n",
    "port = 5432\n",
    "\n",
    "conn = None\n",
    "cur = None"
   ]
  },
  {
   "cell_type": "code",
   "execution_count": 37,
   "metadata": {},
   "outputs": [
    {
     "name": "stdout",
     "output_type": "stream",
     "text": [
      "Robin 22500\n",
      "Xavier 30000\n"
     ]
    }
   ],
   "source": [
    "try:\n",
    "    conn = psycopg2.connect(\n",
    "        host=host, \n",
    "        dbname=dbname, \n",
    "        user=user, \n",
    "        password=password, \n",
    "        port=port)\n",
    "    \n",
    "    cur = conn.cursor(cursor_factory=psycopg2.extras.DictCursor) # changed\n",
    "    \n",
    "    cur.execute(\"\"\"DROP TABLE IF EXISTS employee\"\"\")\n",
    "    \n",
    "    create_script = \"\"\" CREATE TABLE IF NOT EXISTS employee (\n",
    "                            id int PRIMARY KEY,\n",
    "                            name varchar(40) NOT NULL,\n",
    "                            salary int,\n",
    "                            dept_id varchar(30)) \"\"\"\n",
    "    \n",
    "    cur.execute(create_script)\n",
    "    \n",
    "    insert_script = \"\"\"INSERT INTO employee (id, name, salary, dept_id) VALUES (%s, %s, %s, %s)\"\"\"\n",
    "    insert_values = [(1, 'James', 12000, 'D1'), (2, 'Robin', 15000, 'D1'), (3, 'Xavier', 20000, 'D2')]\n",
    "   \n",
    "   # Method 1 \n",
    "    cur.executemany(insert_script, insert_values)\n",
    "    \n",
    "    # Method 2\n",
    "    # for record in insert_values:\n",
    "    #     cur.execute(insert_script, record)\n",
    "    \n",
    "    # cur.execute(\"\"\" SELECT * FROM employee \"\"\")\n",
    "    # print(cur.fetchall())    # fetchone()\n",
    "    # output: [(1, 'James', 12000, 'D1'), (2, 'Robin', 15000, 'D1'), (3, 'Xavier', 20000, 'D2')]\n",
    "    \n",
    "    # for record in cur.fetchall():\n",
    "    #     print(record)\n",
    "    \n",
    "    \"\"\"output:\n",
    "        (1, 'James', 12000, 'D1')\n",
    "        (2, 'Robin', 15000, 'D1')\n",
    "        (3, 'Xavier', 20000, 'D2')\n",
    "    \"\"\"\n",
    "\n",
    "    update_script = \"\"\"UPDATE employee SET salary = salary + (salary * 0.5)\"\"\"\n",
    "    cur.execute(update_script)\n",
    "\n",
    "    # Question: How to extract columns like in SQL? -> psycopg2.extras\n",
    "    \n",
    "    delete_script = \"\"\" DELETE FROM employee WHERE name = %s\"\"\"\n",
    "    delete_record = ('James',)\n",
    "    cur.execute(delete_script, delete_record)\n",
    "\n",
    "    cur.execute(\"\"\" SELECT * FROM employee \"\"\")\n",
    "    for record in cur.fetchall():\n",
    "        print(record['name'], record['salary'])  #before: you need to use indexes. e.g. record[1] for name\n",
    "\n",
    "\n",
    "    \"\"\"output:\n",
    "        James 12000\n",
    "        Robin 15000\n",
    "        Xavier 20000\n",
    "    \"\"\"\n",
    "\n",
    "    conn.commit()\n",
    "\n",
    "except Exception as error:\n",
    "    print(error)\n",
    "finally:\n",
    "    if cur is not None:\n",
    "        cur.close()\n",
    "    if conn is not None:\n",
    "        conn.close()  \n"
   ]
  }
 ],
 "metadata": {
  "kernelspec": {
   "display_name": "venv_mac",
   "language": "python",
   "name": "python3"
  },
  "language_info": {
   "codemirror_mode": {
    "name": "ipython",
    "version": 3
   },
   "file_extension": ".py",
   "mimetype": "text/x-python",
   "name": "python",
   "nbconvert_exporter": "python",
   "pygments_lexer": "ipython3",
   "version": "3.12.3"
  }
 },
 "nbformat": 4,
 "nbformat_minor": 2
}
